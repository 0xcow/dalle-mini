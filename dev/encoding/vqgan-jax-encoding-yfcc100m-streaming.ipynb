{
 "cells": [
  {
   "cell_type": "markdown",
   "id": "d0b72877",
   "metadata": {},
   "source": [
    "# vqgan-jax-encoding-yfcc100m"
   ]
  },
  {
   "cell_type": "markdown",
   "id": "ba7b31e6",
   "metadata": {},
   "source": [
    "Encoding notebook for YFCC100M in streaming mode."
   ]
  },
  {
   "cell_type": "code",
   "execution_count": 1,
   "id": "3b59489e",
   "metadata": {},
   "outputs": [],
   "source": [
    "import io\n",
    "\n",
    "import requests\n",
    "from PIL import Image\n",
    "import numpy as np\n",
    "from tqdm import tqdm\n",
    "\n",
    "import torch\n",
    "import torchvision.transforms as T\n",
    "import torchvision.transforms.functional as TF\n",
    "from torchvision.transforms import InterpolationMode\n",
    "import os\n",
    "\n",
    "import jax\n",
    "from jax import pmap"
   ]
  },
  {
   "cell_type": "markdown",
   "id": "cdcf2845",
   "metadata": {},
   "source": [
    "Ensure we're logged in, since the dataset is private."
   ]
  },
  {
   "cell_type": "code",
   "execution_count": 2,
   "id": "5f8dd3f9",
   "metadata": {},
   "outputs": [
    {
     "name": "stdout",
     "output_type": "stream",
     "text": [
      "pcuenq\r\n",
      "\u001b[1morgs: \u001b[0m flax-community,dalle-mini\r\n"
     ]
    }
   ],
   "source": [
    "!transformers-cli whoami"
   ]
  },
  {
   "cell_type": "markdown",
   "id": "c7c4c1e6",
   "metadata": {},
   "source": [
    "## Dataset and Parameters"
   ]
  },
  {
   "cell_type": "code",
   "execution_count": 3,
   "id": "d45a289e",
   "metadata": {},
   "outputs": [],
   "source": [
    "import datasets\n",
    "from datasets import Dataset, load_dataset"
   ]
  },
  {
   "cell_type": "code",
   "execution_count": 4,
   "id": "28893c3e",
   "metadata": {},
   "outputs": [
    {
     "name": "stderr",
     "output_type": "stream",
     "text": [
      "Using custom data configuration default\n"
     ]
    }
   ],
   "source": [
    "dataset = load_dataset('flax-community/YFCC100M_OpenAI_subset', use_auth_token=True, streaming=True)"
   ]
  },
  {
   "cell_type": "markdown",
   "id": "541b9414",
   "metadata": {},
   "source": [
    "Let's use the validation set for testing."
   ]
  },
  {
   "cell_type": "code",
   "execution_count": 5,
   "id": "3fd265ca",
   "metadata": {},
   "outputs": [],
   "source": [
    "dataset = dataset['validation']"
   ]
  },
  {
   "cell_type": "code",
   "execution_count": 6,
   "id": "33861477",
   "metadata": {},
   "outputs": [],
   "source": [
    "from pathlib import Path\n",
    "\n",
    "yfcc100m = Path('/home/pedro/data/YFCC100M_OpenAI_subset')\n",
    "yfcc100m_output = yfcc100m/'encoded'      # Output directory for encoded files"
   ]
  },
  {
   "cell_type": "code",
   "execution_count": 7,
   "id": "6e7b71c4",
   "metadata": {},
   "outputs": [],
   "source": [
    "batch_size = 128     # Per device\n",
    "num_workers = 16"
   ]
  },
  {
   "cell_type": "code",
   "execution_count": 8,
   "id": "e616a56b",
   "metadata": {},
   "outputs": [],
   "source": [
    "# next(iter(dataset))"
   ]
  },
  {
   "cell_type": "markdown",
   "id": "0793c26a",
   "metadata": {},
   "source": [
    "### Data preparation"
   ]
  },
  {
   "cell_type": "markdown",
   "id": "86415769",
   "metadata": {},
   "source": [
    "* Images: we transform them so they are center-cropped and square, all of the same size so we can build batches for TPU/GPU processing.\n",
    "* Captions: we extract a single `caption` column from the source data, by concatenating the cleaned title and description.\n",
    "\n",
    "These transformations are done using the Datasets `map` function. In the case of streaming datasets, transformations will run as needed instead of pre-processing the dataset at once."
   ]
  },
  {
   "cell_type": "code",
   "execution_count": 36,
   "id": "5bbca804",
   "metadata": {},
   "outputs": [],
   "source": [
    "from PIL import Image\n",
    "import io\n",
    "\n",
    "def get_image(byte_stream):\n",
    "    image = Image.open(io.BytesIO(byte_stream))\n",
    "    return image.convert('RGB')"
   ]
  },
  {
   "cell_type": "code",
   "execution_count": 10,
   "id": "7e73dfa3",
   "metadata": {},
   "outputs": [],
   "source": [
    "def center_crop(image, max_size=256):\n",
    "    s = min(image.size)\n",
    "\n",
    "    # Note: we allow upscaling too. We should exclude small images.\n",
    "    r = max_size / s\n",
    "    s = (round(r * image.size[1]), round(r * image.size[0]))\n",
    "    image = TF.resize(image, s, interpolation=InterpolationMode.LANCZOS)\n",
    "    image = TF.center_crop(image, output_size=2 * [max_size])\n",
    "    image = torch.unsqueeze(T.ToTensor()(image), 0)\n",
    "    return image.permute(0, 2, 3, 1).numpy()"
   ]
  },
  {
   "cell_type": "code",
   "execution_count": 11,
   "id": "aadb4d23",
   "metadata": {},
   "outputs": [],
   "source": [
    "import string\n",
    "\n",
    "def create_caption(title, description):\n",
    "    title = title.strip()\n",
    "    description = description.strip()\n",
    "    if len(title) > 0 and title[-1] not in '.!?': title += '.'\n",
    "    return f'{title} {description}'"
   ]
  },
  {
   "cell_type": "markdown",
   "id": "3c4522b9",
   "metadata": {},
   "source": [
    "And this is the basic transformation function to use in `map`. We don't really need the `key`, but we'll keep it for reference."
   ]
  },
  {
   "cell_type": "code",
   "execution_count": 37,
   "id": "2566ff68",
   "metadata": {},
   "outputs": [],
   "source": [
    "def prepare_data(examples):\n",
    "    result = {'key': [], 'caption': [], 'image': []}\n",
    "\n",
    "    for (key, img, title, description) in zip(examples['key'], examples['img'], examples['title_clean'], examples['description_clean']):\n",
    "        image = get_image(img)\n",
    "        image = center_crop(image)\n",
    "        \n",
    "        caption = create_caption(title, description)\n",
    "        \n",
    "        result['key'].append(key)\n",
    "        result['caption'].append(caption)\n",
    "        result['image'].append(image)\n",
    "    return result"
   ]
  },
  {
   "cell_type": "markdown",
   "id": "e519e475",
   "metadata": {},
   "source": [
    "Unlike when using non-streaming datasets, the following operation completes immediately in streaming mode. Samples will be processed as needed. We use a `batch_size` of the same size as the processing size to read as many items we'll consume in a dataloader step. We could use a different size, this way we do a retrieval per batch."
   ]
  },
  {
   "cell_type": "code",
   "execution_count": 13,
   "id": "10d7750e",
   "metadata": {},
   "outputs": [],
   "source": [
    "prepared_dataset = dataset.map(prepare_data, batched=True, batch_size=batch_size * jax.device_count())"
   ]
  },
  {
   "cell_type": "code",
   "execution_count": 14,
   "id": "a8595539",
   "metadata": {},
   "outputs": [
    {
     "name": "stdout",
     "output_type": "stream",
     "text": [
      "CPU times: user 10.5 s, sys: 925 ms, total: 11.4 s\n",
      "Wall time: 19.8 s\n"
     ]
    }
   ],
   "source": [
    "%%time\n",
    "_ = next(iter(prepared_dataset))"
   ]
  },
  {
   "cell_type": "markdown",
   "id": "9b808e5c",
   "metadata": {},
   "source": [
    "We might have a problem here. Our `prepare_data` function receives a batch, but images are loaded and transformed sequentially. We need to explore how to parallelize data retrieval to optimize."
   ]
  },
  {
   "cell_type": "markdown",
   "id": "44d50a51",
   "metadata": {},
   "source": [
    "### Torch DataLoader"
   ]
  },
  {
   "cell_type": "markdown",
   "id": "17a4bbc6",
   "metadata": {},
   "source": [
    "We'll create a PyTorch DataLoader for convenience. This allows us to easily take batches of our desired size.\n",
    "\n",
    "We won't be using parallel processing of the DataLoader for now, as the items will be retrieved on the fly. We could attempt to do it using these recommendations: https://pytorch.org/docs/stable/data.html#multi-process-data-loading."
   ]
  },
  {
   "cell_type": "code",
   "execution_count": 15,
   "id": "e1c08b7e",
   "metadata": {},
   "outputs": [],
   "source": [
    "import torch\n",
    "from torch.utils.data import DataLoader"
   ]
  },
  {
   "cell_type": "code",
   "execution_count": 16,
   "id": "6a296677",
   "metadata": {},
   "outputs": [],
   "source": [
    "torch_dataset = prepared_dataset.with_format(\"torch\")"
   ]
  },
  {
   "cell_type": "code",
   "execution_count": 17,
   "id": "e2df5e13",
   "metadata": {},
   "outputs": [],
   "source": [
    "torch_loader = DataLoader(torch_dataset, batch_size=batch_size * jax.device_count())"
   ]
  },
  {
   "cell_type": "code",
   "execution_count": 18,
   "id": "a45061eb",
   "metadata": {},
   "outputs": [],
   "source": [
    "batch = next(iter(torch_loader))"
   ]
  },
  {
   "cell_type": "code",
   "execution_count": 19,
   "id": "71d027fe",
   "metadata": {},
   "outputs": [
    {
     "data": {
      "text/plain": [
       "torch.Size([1024, 1, 256, 256, 3])"
      ]
     },
     "execution_count": 19,
     "metadata": {},
     "output_type": "execute_result"
    }
   ],
   "source": [
    "batch['image'].shape"
   ]
  },
  {
   "cell_type": "markdown",
   "id": "a354472b",
   "metadata": {},
   "source": [
    "## VQGAN-JAX model"
   ]
  },
  {
   "cell_type": "code",
   "execution_count": 20,
   "id": "2fcf01d7",
   "metadata": {},
   "outputs": [],
   "source": [
    "from vqgan_jax.modeling_flax_vqgan import VQModel"
   ]
  },
  {
   "cell_type": "markdown",
   "id": "9daa636d",
   "metadata": {},
   "source": [
    "We'll use a VQGAN trained with Taming Transformers and converted to a JAX model."
   ]
  },
  {
   "cell_type": "code",
   "execution_count": 21,
   "id": "47a8b818",
   "metadata": {
    "scrolled": true
   },
   "outputs": [
    {
     "name": "stdout",
     "output_type": "stream",
     "text": [
      "Working with z of shape (1, 256, 16, 16) = 65536 dimensions.\n"
     ]
    }
   ],
   "source": [
    "model = VQModel.from_pretrained(\"flax-community/vqgan_f16_16384\")"
   ]
  },
  {
   "cell_type": "markdown",
   "id": "62ad01c3",
   "metadata": {},
   "source": [
    "## Encoding"
   ]
  },
  {
   "cell_type": "markdown",
   "id": "20357f74",
   "metadata": {},
   "source": [
    "Encoding is really simple using `shard` to automatically distribute \"superbatches\" across devices, and `pmap`. This is all it takes to create our encoding function, that will be jitted on first use."
   ]
  },
  {
   "cell_type": "code",
   "execution_count": 22,
   "id": "6686b004",
   "metadata": {},
   "outputs": [],
   "source": [
    "from flax.training.common_utils import shard\n",
    "from functools import partial"
   ]
  },
  {
   "cell_type": "code",
   "execution_count": 23,
   "id": "322a4619",
   "metadata": {},
   "outputs": [],
   "source": [
    "@partial(jax.pmap, axis_name=\"batch\")\n",
    "def encode(batch):\n",
    "    # Not sure if we should `replicate` params, does not seem to have any effect\n",
    "    _, indices = model.encode(batch)\n",
    "    return indices"
   ]
  },
  {
   "cell_type": "markdown",
   "id": "14375a41",
   "metadata": {},
   "source": [
    "## Putting it all together"
   ]
  },
  {
   "cell_type": "code",
   "execution_count": 59,
   "id": "ff6c10d4",
   "metadata": {},
   "outputs": [],
   "source": [
    "import os\n",
    "import pandas as pd\n",
    "\n",
    "def encode_captioned_dataset(dataset, prepare_function, output_dir, batch_size=32, num_workers=16, save_every=14):\n",
    "    output_dir.mkdir(parents=True, exist_ok=True)\n",
    "    \n",
    "    num_tpus = jax.device_count()\n",
    "    bs = batch_size * num_tpus\n",
    "    \n",
    "    prepared_dataset = dataset.map(prepare_function, batched=True, batch_size=batch_size * num_tpus)\n",
    "    torch_dataset = prepared_dataset.with_format(\"torch\")\n",
    "    dataloader = DataLoader(torch_dataset, batch_size=batch_size * num_tpus, drop_last=True)\n",
    "    \n",
    "    # Saving strategy:\n",
    "    # - Create a new file every so often to prevent excessive file seeking.\n",
    "    # - Save each batch after processing.\n",
    "    # - Keep the file open until we are done with it.\n",
    "    file = None        \n",
    "    iter_loader = iter(dataloader)\n",
    "    for n, batch in tqdm(enumerate(iter_loader)):\n",
    "        if (n % save_every == 0):\n",
    "            if file is not None:\n",
    "                file.close()\n",
    "            split_num = n // save_every\n",
    "            file = open(output_dir/f'split_{split_num:05x}.jsonl', 'w')\n",
    "\n",
    "        images = batch[\"image\"].numpy()\n",
    "        images = shard(images.squeeze())\n",
    "        encoded = encode(images)\n",
    "        encoded = encoded.reshape(-1, encoded.shape[-1])\n",
    "\n",
    "        # Extract captions from the dataset\n",
    "        keys = batch[\"key\"]\n",
    "        captions = batch[\"caption\"]\n",
    "\n",
    "        encoded_as_string = list(map(lambda item: np.array2string(item, separator=',', max_line_width=50000, formatter={'int':lambda x: str(x)}), encoded))\n",
    "        batch_df = pd.DataFrame.from_dict({\"key\": keys, \"caption\": captions, \"encoding\": encoded_as_string})\n",
    "        batch_df.to_json(file, orient='records', lines=True)"
   ]
  },
  {
   "cell_type": "markdown",
   "id": "09ff75a3",
   "metadata": {},
   "source": [
    "Create a new file every 318 iterations. This should produce splits of ~500 MB each, when using a total batch size of 1024."
   ]
  },
  {
   "cell_type": "code",
   "execution_count": 60,
   "id": "96222bb4",
   "metadata": {},
   "outputs": [],
   "source": [
    "save_every = 318"
   ]
  },
  {
   "cell_type": "code",
   "execution_count": 61,
   "id": "7704863d",
   "metadata": {},
   "outputs": [
    {
     "name": "stderr",
     "output_type": "stream",
     "text": [
      "15it [03:14, 12.96s/it]\n"
     ]
    }
   ],
   "source": [
    "encode_captioned_dataset(dataset, prepare_data, yfcc100m_output, batch_size=batch_size, num_workers=num_workers, save_every=save_every)"
   ]
  },
  {
   "cell_type": "markdown",
   "id": "e266a70a",
   "metadata": {},
   "source": [
    "This is ~10-15 slower than local encoding from an SSD. We could try to inevistigate how to achieve some parallelization."
   ]
  },
  {
   "cell_type": "markdown",
   "id": "8953dd84",
   "metadata": {},
   "source": [
    "----"
   ]
  }
 ],
 "metadata": {
  "interpreter": {
   "hash": "db471c52d602b4f5f40ecaf278e88ccfef85c29d0a1a07185b0d51fc7acf4e26"
  },
  "kernelspec": {
   "display_name": "Python 3 (ipykernel)",
   "language": "python",
   "name": "python3"
  },
  "language_info": {
   "codemirror_mode": {
    "name": "ipython",
    "version": 3
   },
   "file_extension": ".py",
   "mimetype": "text/x-python",
   "name": "python",
   "nbconvert_exporter": "python",
   "pygments_lexer": "ipython3",
   "version": "3.8.11"
  }
 },
 "nbformat": 4,
 "nbformat_minor": 5
}
